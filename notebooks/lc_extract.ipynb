{
 "cells": [
  {
   "cell_type": "code",
   "execution_count": 1,
   "metadata": {},
   "outputs": [
    {
     "name": "stderr",
     "output_type": "stream",
     "text": [
      "WARNING: AstropyDeprecationWarning: The update_default_config function is deprecated and may be removed in a future version. [sncosmo]\n"
     ]
    }
   ],
   "source": [
    "import re\n",
    "from astropy.table import Table, vstack\n",
    "import os\n",
    "import lcdata\n",
    "import numpy as np"
   ]
  },
  {
   "cell_type": "code",
   "execution_count": 11,
   "metadata": {},
   "outputs": [],
   "source": [
    "\"\"\"\n",
    "def extract_data(kind):\n",
    "    if kind == 'ps':\n",
    "        root_directory = './data/Pan-STARRS/'\n",
    "    elif kind == 'sdss': \n",
    "        root_directory = './data/SDSS/'\n",
    "    elif kind == 'uvot':\n",
    "        root_directory = './data/SOUSA'\n",
    "    elif kind == 'csp':\n",
    "        root_directory = './data/CSP'\n",
    "    else: \n",
    "        print('Kind not defined, please enter one of ps, sdss, uvot, or csp')\n",
    "    light_curves = []\n",
    "    # Loop through each directory and its subdirectories\n",
    "    for dirpath, dirnames, filenames in os.walk(root_directory):\n",
    "        # Process files based on their names\n",
    "\n",
    "        # Save object_id from dirpath\n",
    "        object_id = dirpath.split(\"/\")[-1]\n",
    "\n",
    "\n",
    "        lc_tot = []\n",
    "        \n",
    "        for filename in filenames:\n",
    "            telescope_type = None\n",
    "            # Check if the file has a specific name pattern\n",
    "            if filename.startswith(f'lc2fit') and filename.endswith('.dat'):\n",
    "                if 'SWOPE' in filename:\n",
    "                    telescope_type = 'cps'\n",
    "                elif 'UVOT' in filename or kind == 'uvot':\n",
    "                    telescope_type = 'uvot'\n",
    "\n",
    "                # Construct the full path to the file\n",
    "                file_path = os.path.join(dirpath, filename)\n",
    "\n",
    "                phase = []\n",
    "                flux = []\n",
    "                fluxerr = []\n",
    "                zp = []\n",
    "                csp_bands = []\n",
    "\n",
    "                with open(file_path, 'r') as file:\n",
    "                    for line in file:\n",
    "                        band_match = re.search(r'@BAND\\s+(.+)', line)\n",
    "                        if band_match:\n",
    "                            band_name = band_match.group(1)\n",
    "                            if kind == 'ps':\n",
    "                                band = f'ps1::{band_name[-1]}'\n",
    "\n",
    "\n",
    "                            elif kind == 'sdss':\n",
    "                                if band_name.split(\"_\")[0].lower() =='sdss':\n",
    "                                    band = f'sdss::{band_name[-1]}'\n",
    "                                elif band_name.split(\"_\")[0].lower() == 'swope':\n",
    "                                    if 'LC' in band_name:\n",
    "                                        # Handle case like 'SWOPE_V-LC-3014'\n",
    "                                        formatted_band_name = band_name.replace('SWOPE_', '').replace('-LC', '').replace('-', '')\n",
    "                                        band = f'csp{formatted_band_name.lower()}'\n",
    "                                    else:\n",
    "                                        # Handle case like 'SWOPE_r'\n",
    "                                        formatted_band_name = band_name.replace('SWOPE_', '').lower()\n",
    "                                        band = f'csp{formatted_band_name}'\n",
    "\n",
    "                            elif kind == 'uvot':\n",
    "                                band = f'uvot::{band_name.split(\"_\")[-1]}'\n",
    "\n",
    "\n",
    "                            elif kind =='csp':\n",
    "                                if 'SWOPE' in band_name:\n",
    "                                    if 'LC' in band_name:\n",
    "                                        # Handle case like 'SWOPE_V-LC-3014'\n",
    "                                        formatted_band_name = band_name.replace('SWOPE_', '').replace('-LC', '').replace('-', '')\n",
    "                                        band = f'csp{formatted_band_name.lower()}'\n",
    "                                    else:\n",
    "                                        # Handle case like 'SWOPE_r'\n",
    "                                        formatted_band_name = band_name.replace('SWOPE_', '').lower()\n",
    "                                        band = f'csp{formatted_band_name}'\n",
    "                                    csp_bands.append(band)\n",
    "                                if 'UVOT' in band_name:\n",
    "                                    band = f'uvot::{band_name.split(\"_\")[-1]}'\n",
    "                                \n",
    "\n",
    "                                \n",
    "                        match = re.match(r'\\s*([\\d.]+)\\s+([\\d.]+)\\s+([\\d.]+)\\s+([\\d.]+)', line)\n",
    "                        if match:\n",
    "                            phase.append(float(match.group(1)))\n",
    "                            flux.append(float(match.group(2)))\n",
    "                            fluxerr.append(float(match.group(3)))\n",
    "                            zp.append(float(match.group(4)))\n",
    "                    lc = Table({\n",
    "                        'time': phase,\n",
    "                        'flux': flux,\n",
    "                        'fluxerr': fluxerr,\n",
    "                        'zp': zp,\n",
    "                        'zpsys': [str('ab').lower()]*len(phase),\n",
    "                        'band': [str(band).lower()]*len(phase)\n",
    "                    })\n",
    "                   \n",
    "                    lc_tot.append(lc)\n",
    "        if lc_tot:\n",
    "            # Ensure 'band' column is always a string\n",
    "            for lc in lc_tot:\n",
    "                lc['band'] = lc['band'].astype(str)\n",
    "                lc['zpsys'] = lc['zpsys'].astype(str)\n",
    "\n",
    "            # Now try to stack them\n",
    "            try:\n",
    "                combined_lc = vstack(lc_tot)\n",
    "            except Exception as e:\n",
    "                print(f\"Error in stacking tables: {e}\")\n",
    "                continue  # or handle the error as needed\n",
    "            combined_lc = vstack(lc_tot)\n",
    "            light_curves.append(combined_lc)\n",
    "\n",
    "            lightfile_path = os.path.join(dirpath, 'lightfile')\n",
    "            metadata_dict = {}\n",
    "\n",
    "            with open(lightfile_path, 'r') as lightfile:\n",
    "                for line in lightfile:\n",
    "                    # Split the line and check the length\n",
    "                    parts = line.strip().split()\n",
    "                    if len(parts) == 2:\n",
    "                        key, value = parts\n",
    "\n",
    "                        if key == 'z_heliocentric':\n",
    "                            metadata_dict['redshift'] = float(value)\n",
    "                        elif key != 'z_CMB':\n",
    "                            metadata_dict['object_id'] = object_id\n",
    "                            metadata_dict[key] = float(value)\n",
    "                            \n",
    "                        \n",
    "            # Add metadata to the combined table's meta\n",
    "            combined_lc.meta.update(metadata_dict)\n",
    "\n",
    "    return light_curves\n",
    "\"\"\""
   ]
  },
  {
   "cell_type": "code",
   "execution_count": 5,
   "metadata": {},
   "outputs": [],
   "source": [
    "import os\n",
    "import re\n",
    "from astropy.table import Table, vstack\n",
    "\n",
    "# Helper function to set the root directory\n",
    "def set_root_directory(kind):\n",
    "    root_directories = {\n",
    "        'ps': './data/Pan-STARRS/',\n",
    "        'sdss': './data/SDSS/',\n",
    "        'uvot': './data/SOUSA/',\n",
    "        'csp': './data/CSP/',\n",
    "        'roman': './data/RomanLCs/'\n",
    "    }\n",
    "    return root_directories.get(kind, None)\n",
    "\n",
    "# Helper function to parse metadata and apply the label map\n",
    "def parse_metadata(file_path, label_map):\n",
    "    metadata = {}\n",
    "    with open(file_path, 'r') as file:\n",
    "        for line in file:\n",
    "            parts = line.split()\n",
    "            key = parts[0]\n",
    "            values = parts[1:]\n",
    "\n",
    "            if key in ['Mass', 'z_cmb']:\n",
    "                continue\n",
    "            if key == 'z_heliocentric':\n",
    "                key = 'redshift'\n",
    "            if key == 'SNTYPE':\n",
    "                key = 'type'\n",
    "                sntype_value = int(values[0])\n",
    "                metadata[key] = label_map.get(sntype_value, \"Unknown\")\n",
    "            else:\n",
    "                metadata[key] = float(values[0]) if len(values) == 1 else [float(v) for v in values]\n",
    "    return metadata\n",
    "\n",
    "# Function to create a label map from SNTYPE to the corresponding transient type\n",
    "def create_label_map():\n",
    "    return {\n",
    "        10: \"SNIa\",\n",
    "        11: \"91bg-like\",\n",
    "        12: \"SNIax\",\n",
    "        30: \"CCSN\",\n",
    "        40: \"SLSN\",\n",
    "        42: \"TDE\",\n",
    "        45: \"ILOT\",\n",
    "        50: \"KNa\",\n",
    "        59: \"PISNb\"\n",
    "    }\n",
    "\n",
    "def determine_band(band_name, kind):\n",
    "    band = None\n",
    "    if kind == 'ps':\n",
    "        band = f'ps1::{band_name[-1]}'\n",
    "    elif kind == 'sdss':\n",
    "        if band_name.split(\"_\")[0].lower() == 'sdss':\n",
    "            band = f'sdss::{band_name[-1]}'\n",
    "        elif band_name.split(\"_\")[0].lower() == 'swope':\n",
    "            if 'LC' in band_name:\n",
    "                # Handle case like 'SWOPE_V-LC-3014'\n",
    "                formatted_band_name = band_name.replace('SWOPE_', '').replace('-LC', '').replace('-', '')\n",
    "                band = f'csp{formatted_band_name.lower()}'\n",
    "            else:\n",
    "                # Handle case like 'SWOPE_r'\n",
    "                formatted_band_name = band_name.replace('SWOPE_', '').lower()\n",
    "                band = f'csp{formatted_band_name}'\n",
    "    elif kind == 'uvot':\n",
    "        band = f'uvot::{band_name.split(\"_\")[-1]}'\n",
    "    elif kind == 'csp':\n",
    "        if 'SWOPE' in band_name:\n",
    "            if 'LC' in band_name:\n",
    "                # Handle case like 'SWOPE_V-LC-3014'\n",
    "                formatted_band_name = band_name.replace('SWOPE_', '').replace('-LC', '').replace('-', '')\n",
    "                band = f'csp{formatted_band_name.lower()}'\n",
    "            else:\n",
    "                # Handle case like 'SWOPE_r'\n",
    "                formatted_band_name = band_name.replace('SWOPE_', '').lower()\n",
    "                band = f'csp{formatted_band_name}'\n",
    "    elif kind == 'roman':\n",
    "        band = f'f{band_name[1:]}'\n",
    "    \n",
    "    return band\n",
    "\n",
    "# Main function for extracting light curves and their metadata\n",
    "\n",
    "def extract_data(kind):\n",
    "    root_directory = set_root_directory(kind)\n",
    "    if not root_directory:\n",
    "        print('Kind not defined, please enter one of ps, sdss, uvot, csp, or roman')\n",
    "        return []\n",
    "\n",
    "    label_map = create_label_map()\n",
    "    light_curves = []\n",
    "    #dropped_types = ['ILOT', 'PISNb', 'TDE', 'SLSN']\n",
    "\n",
    "    #Debugging\n",
    "    #type_exclusions = {type_: 0 for type_ in dropped_types}\n",
    "    phase_exclusions = 0\n",
    "\n",
    "\n",
    "    for dirpath, dirnames, filenames in os.walk(root_directory):\n",
    "        lc_tot = []\n",
    "        valid_light_curve = True\n",
    "\n",
    "        for filename in filenames:\n",
    "            if filename.startswith('lc2fit') and filename.endswith('.dat'):\n",
    "                file_path = os.path.join(dirpath, filename)\n",
    "                with open(file_path, 'r') as file:\n",
    "                    phase, flux, fluxerr, zp = [], [], [], []\n",
    "                    band = None\n",
    "                    for line in file:\n",
    "                        band_match = re.search(r'@BAND\\s+(.+)', line)\n",
    "                        if band_match:\n",
    "                            band_name = band_match.group(1)\n",
    "                            band = determine_band(band_name, kind)\n",
    "                        match = re.match(r'\\s*([\\d.]+)\\s+([\\d.]+)\\s+([\\d.]+)\\s+([\\d.]+)', line)\n",
    "                        if match:\n",
    "                            phase.append(float(match.group(1)))\n",
    "                            flux.append(float(match.group(2)))\n",
    "                            fluxerr.append(float(match.group(3)))\n",
    "                            zp.append(float(match.group(4)))\n",
    "\n",
    "                    # If any band has less than 4 phases, mark the entire light curve as invalid\n",
    "                    if len(phase) < 4:\n",
    "                        valid_light_curve = False\n",
    "                        phase_exclusions += 1\n",
    "                        break\n",
    "                    else:\n",
    "                        lc = Table({\n",
    "                            'time': phase,\n",
    "                            'flux': flux,\n",
    "                            'fluxerr': fluxerr,\n",
    "                            'zp': zp,\n",
    "                            'zpsys': ['ab' for _ in phase],\n",
    "                            'band': [str(band).lower() for _ in phase]\n",
    "                        })\n",
    "                        lc_tot.append(lc)\n",
    "\n",
    "        if valid_light_curve and lc_tot:\n",
    "            try:\n",
    "                combined_lc = vstack(lc_tot)\n",
    "                lightfile_path = os.path.join(dirpath, 'lightfile')\n",
    "                metadata = parse_metadata(lightfile_path, label_map)\n",
    "                \"\"\"if kind == 'roman' and metadata.get('type') in dropped_types:\n",
    "                    type_exclusions[metadata.get('type')] += 1\n",
    "                    continue\"\"\"\n",
    "                combined_lc.meta.update(metadata)\n",
    "                light_curves.append(combined_lc)\n",
    "                # Check the type for roman telescopes\n",
    "                \n",
    "            except Exception as e:\n",
    "                print(f\"Error in stacking tables: {e}\")\n",
    "                continue\n",
    "    \"\"\"print(f\"Light curves excluded due to type:\")\n",
    "    for type_, count in type_exclusions.items():\n",
    "        print(f\"{type_}: {count}\")\"\"\"\n",
    "    print(f\"Light curves excluded due to insufficient phases: {phase_exclusions}\")\n",
    "\n",
    "    return light_curves\n",
    "\n",
    "\n",
    "\n"
   ]
  },
  {
   "cell_type": "code",
   "execution_count": 6,
   "metadata": {},
   "outputs": [
    {
     "name": "stdout",
     "output_type": "stream",
     "text": [
      "Light curves excluded due to insufficient phases: 254\n"
     ]
    }
   ],
   "source": [
    "#Usage Example\n",
    "roman_lcs = extract_data('roman')"
   ]
  },
  {
   "cell_type": "code",
   "execution_count": 3,
   "metadata": {},
   "outputs": [
    {
     "data": {
      "text/plain": [
       "65833"
      ]
     },
     "execution_count": 3,
     "metadata": {},
     "output_type": "execute_result"
    }
   ],
   "source": [
    "len(roman_lcs)"
   ]
  },
  {
   "cell_type": "code",
   "execution_count": 7,
   "metadata": {},
   "outputs": [],
   "source": [
    "import lcdata\n",
    "import numpy as np\n",
    "roman_train = lcdata.from_light_curves(roman_lcs[:60000])\n",
    "roman_test = lcdata.from_light_curves(roman_lcs[60000:])\n"
   ]
  },
  {
   "cell_type": "code",
   "execution_count": 15,
   "metadata": {},
   "outputs": [],
   "source": [
    "roman_test.write_hdf5('roman_test.h5', overwrite='True')\n",
    "roman_train.write_hdf5('roman_train.h5', overwrite='True')"
   ]
  },
  {
   "cell_type": "code",
   "execution_count": 10,
   "metadata": {},
   "outputs": [
    {
     "name": "stdout",
     "output_type": "stream",
     "text": [
      "Error in stacking tables: The 'band' columns have incompatible types: ['str128', 'object', 'str128', 'str256', 'object', 'str128', 'str128', 'object', 'object', 'object', 'str128', 'object']\n",
      "Error in stacking tables: The 'band' columns have incompatible types: ['str128', 'object', 'str128', 'str256', 'object', 'str128', 'str128', 'object', 'object', 'object', 'str128', 'object']\n",
      "Error in stacking tables: The 'band' columns have incompatible types: ['str128', 'str128', 'str256', 'str128', 'object', 'object', 'object', 'object', 'str128', 'object', 'str128']\n",
      "Error in stacking tables: The 'band' columns have incompatible types: ['str128', 'object', 'str128', 'str256', 'object', 'str128', 'str128', 'object', 'object', 'object', 'str128', 'object']\n",
      "Error in stacking tables: The 'band' columns have incompatible types: ['str128', 'str128', 'str128', 'str256', 'str128', 'object', 'object', 'str128', 'object']\n",
      "Error in stacking tables: The 'band' columns have incompatible types: ['str128', 'object', 'str128', 'str256', 'object', 'str128', 'str128', 'object', 'object', 'object', 'str128', 'object']\n",
      "Error in stacking tables: The 'band' columns have incompatible types: ['str128', 'object', 'str128', 'str256', 'object', 'str128', 'str128', 'object', 'object', 'object', 'str128', 'object']\n",
      "Error in stacking tables: The 'band' columns have incompatible types: ['str128', 'object', 'str128', 'str256', 'object', 'str128', 'str128', 'object', 'object', 'object', 'str128', 'object']\n",
      "Error in stacking tables: The 'band' columns have incompatible types: ['str128', 'object', 'str128', 'str256', 'object', 'str128', 'str128', 'object', 'object', 'object', 'str128', 'object']\n"
     ]
    }
   ],
   "source": [
    "ps_lcs = extract_data(kind = 'ps')\n",
    "sdss_lcs = extract_data(kind='sdss')\n",
    "sousa_lcs = extract_data(kind='uvot')\n",
    "csp_lcs = extract_data(kind = 'csp')"
   ]
  },
  {
   "cell_type": "code",
   "execution_count": 18,
   "metadata": {},
   "outputs": [
    {
     "name": "stdout",
     "output_type": "stream",
     "text": [
      "Error in stacking tables: The 'zpsys' columns have incompatible types: ['str64', 'float64', 'str64']\n"
     ]
    }
   ],
   "source": [
    "roman_lcs = extract_data('roman')"
   ]
  },
  {
   "cell_type": "code",
   "execution_count": 19,
   "metadata": {},
   "outputs": [
    {
     "data": {
      "text/plain": [
       "66238"
      ]
     },
     "execution_count": 19,
     "metadata": {},
     "output_type": "execute_result"
    }
   ],
   "source": [
    "len(roman_lcs)"
   ]
  },
  {
   "cell_type": "code",
   "execution_count": 7,
   "metadata": {},
   "outputs": [],
   "source": [
    "ps_dataset = lcdata.from_light_curves(ps_lcs)\n",
    "sdss_dataset = lcdata.from_light_curves(sdss_lcs)\n",
    "swift_dataset = lcdata.from_light_curves(sousa_lcs)\n",
    "csp_dataset = lcdata.from_light_curves(csp_lcs)"
   ]
  },
  {
   "cell_type": "code",
   "execution_count": 59,
   "metadata": {},
   "outputs": [],
   "source": [
    "ps_dataset.write_hdf5('ps_data.h5', overwrite=True)\n",
    "sdss_dataset.write_hdf5('sdss_data.h5', overwrite=True)\n",
    "swift_dataset.write_hdf5('swift_data.h5', overwrite=True)\n",
    "csp_dataset.write_hdf5('csp_data.h5', overwrite=True)"
   ]
  },
  {
   "cell_type": "code",
   "execution_count": null,
   "metadata": {},
   "outputs": [],
   "source": []
  }
 ],
 "metadata": {
  "kernelspec": {
   "display_name": "shakinaz",
   "language": "python",
   "name": "python3"
  },
  "language_info": {
   "codemirror_mode": {
    "name": "ipython",
    "version": 3
   },
   "file_extension": ".py",
   "mimetype": "text/x-python",
   "name": "python",
   "nbconvert_exporter": "python",
   "pygments_lexer": "ipython3",
   "version": "3.10.9"
  }
 },
 "nbformat": 4,
 "nbformat_minor": 2
}
