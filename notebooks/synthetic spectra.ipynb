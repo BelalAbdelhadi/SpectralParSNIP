{
 "cells": [
  {
   "cell_type": "markdown",
   "id": "3eac1f97",
   "metadata": {},
   "source": [
    "### Importing Libraries"
   ]
  },
  {
   "cell_type": "code",
   "execution_count": 2,
   "id": "aa95db63",
   "metadata": {},
   "outputs": [],
   "source": [
    "import numpy as np\n",
    "from astropy.table import Table, vstack\n",
    "import lcdata\n",
    "import sncosmo\n",
    "import warnings\n",
    "\n",
    "warnings.filterwarnings(\"ignore\")\n"
   ]
  },
  {
   "cell_type": "markdown",
   "id": "551d8b37",
   "metadata": {},
   "source": [
    "### Load the pretrained parsnip model with the wavelength bins"
   ]
  },
  {
   "cell_type": "code",
   "execution_count": 3,
   "id": "b8d7b796",
   "metadata": {},
   "outputs": [],
   "source": [
    "#Loading the wavelength grid from parsnip\n",
    "waves = np.load('waves.npy')"
   ]
  },
  {
   "cell_type": "markdown",
   "id": "367cb2ff",
   "metadata": {},
   "source": [
    "#### Creating narrower bands for the spectra"
   ]
  },
  {
   "cell_type": "code",
   "execution_count": 24,
   "id": "654701e4",
   "metadata": {},
   "outputs": [],
   "source": [
    "\"\"\"Bands should be functions of wavelength (e.g: band no. n picks out nth 10 wavelengths)\"\"\"\n",
    "bands = []\n",
    "for i in range(0,300,10):\n",
    "    wavelengths = waves[i:i+10]\n",
    "    transmission = np.ones_like(wavelengths)\n",
    "    band = sncosmo.Bandpass(wavelengths, transmission, name = f'band_{int(i/10)}')\n",
    "    sncosmo.registry.register(band, force=True)\n",
    "    bands.append(band)"
   ]
  },
  {
   "cell_type": "markdown",
   "id": "c4833191",
   "metadata": {},
   "source": [
    "## Generating lc + Spectra"
   ]
  },
  {
   "cell_type": "code",
   "execution_count": 4,
   "id": "c4663b96",
   "metadata": {},
   "outputs": [
    {
     "name": "stdout",
     "output_type": "stream",
     "text": [
      " These distributions output 539 SNe\n",
      "[<Table length=16>\n",
      "        time            flux     fluxerr     band     zp   zpsys\n",
      "      float64         float32    float32    bytes7 float64  str2\n",
      " ------------------ ----------- ---------- ------- ------- -----\n",
      " 56256.418758114734  -1.3625252 0.82990754 band_14    28.0    ab\n",
      " 56256.418758114734  0.48245493  0.9534854 band_15    28.0    ab\n",
      " 56256.418758114734 -0.54381675  0.5928373 band_16    28.0    ab\n",
      " 56256.418758114734  0.72950375 0.74809074 band_17    28.0    ab\n",
      " 56256.418758114734  0.22562928  0.7561792 band_18    28.0    ab\n",
      " 56256.418758114734   1.1570276  0.7460244 band_19    28.0    ab\n",
      "                ...         ...        ...     ...     ...   ...\n",
      " 56256.418758114734   47.654285 0.93900037 band_23    28.0    ab\n",
      " 56256.418758114734    85.96306  1.2474169 band_24    28.0    ab\n",
      " 56256.418758114734   79.106346  1.1172229 band_25    28.0    ab\n",
      " 56256.418758114734    90.48478   1.144234 band_26    28.0    ab\n",
      " 56256.418758114734     82.5915  1.0460594 band_27    28.0    ab\n",
      " 56256.418758114734    82.10334  1.1913059 band_28    28.0    ab\n",
      " 56256.418758114734     91.5609  1.2880151 band_29    28.0    ab]\n"
     ]
    }
   ],
   "source": [
    "#Define the function to generate light curves from, the default parameters output ~450-550 Supernovae.\n",
    "\n",
    "def generate_lc(area = 4., tmin = 56075, tmax= 56425, zmax = 0.8, skynoise_min = 0.5, skynoise_max = 1,\n",
    "                dust = sncosmo.CCM89Dust(), n_points = 300):\n",
    "    \n",
    "    spectra_t0 = []\n",
    "    #Initialize the model\n",
    "    model = sncosmo.Model(source='salt2-extended',\n",
    "                      effects=[dust], \n",
    "                      effect_names=['host'], \n",
    "                      effect_frames=['rest']) \n",
    "    phases = np.random.uniform(tmin,tmax, size=n_points)\n",
    "    #Observation parameters\n",
    "    obs = Table({'time': phases,\n",
    "             'band': ['lsstu', 'lsstg', 'lsstr', 'lssti', 'lsstz', 'lssty']*(int(n_points/6)),\n",
    "             'gain': [1.] * n_points,\n",
    "             'skynoise': np.random.uniform(skynoise_min, skynoise_max, size=n_points),\n",
    "             'zp': [28.]*n_points, \n",
    "             'zpsys':['ab']*n_points})\n",
    "    \n",
    "    \n",
    "    \n",
    "    \"\"\"Use one phase with 30 bands in it for every light curve\"\"\"\n",
    "    \n",
    "    \"\"\"Generate a normal light curve (ugriz), \n",
    "    + a spectrum at around maximum light using generated bands (i.e: 5 through 29)\"\"\"\n",
    "\n",
    "    \"\"\"Initiate 1000 to 11000 array and zero out the waves under 2000 when simulating and zero weight (infinite uncertainty)\"\"\"\n",
    "    \n",
    "    \"\"\"Generate all possible set of wavelengths and set zero wave zero flux where we have no data\"\"\"\n",
    "    #Get a redshift distribution\n",
    "    redshifts = list(sncosmo.zdist(0., zmax, time=(tmax-tmin), area=area))\n",
    "    params = []\n",
    "    s2n_max = 60 \n",
    "    print(f' These distributions output {len(redshifts)} SNe')\n",
    "    #Loop over redshifts to get amplitudes\n",
    "    spectra_list = []\n",
    "    for z in redshifts:\n",
    "        mabs = np.random.normal(-19.3, 0.3)\n",
    "        model.set(z=z)\n",
    "        model.set_source_peakabsmag(mabs, 'lsstr', 'ab')\n",
    "        x0 = model.get('x0')\n",
    "        t0 = np.random.uniform(tmin, tmax)\n",
    "        #Set Parameters\n",
    "        p = {'z':z, 't0':t0, 'x0':x0, 'x1': np.random.normal(0., 1.), 'c': np.random.normal(0.,0.1)}\n",
    "        params.append(p)\n",
    "        model.set(**p)\n",
    "        \n",
    "        \n",
    "        spectra = []\n",
    "        used_bands = []\n",
    "        c=0\n",
    "        phase = np.random.uniform(t0-5, t0+5)\n",
    "        for i in range(len(bands)):     \n",
    "            try:\n",
    "                spectra_flux = model.bandflux(bands[i], phase, zp=28., zpsys='ab')\n",
    "                band = bands[i].name\n",
    "                spectra.append(spectra_flux)\n",
    "                used_bands.append(band)\n",
    "                c=c+1\n",
    "                #print(f'bands {used_bands} is used')\n",
    "            except ValueError:\n",
    "                pass\n",
    "            \n",
    "        spectra_table = Table({'time': [phase]*len(used_bands),\n",
    "             'band': used_bands,\n",
    "             'gain': [100] * len(spectra),\n",
    "             'skynoise': np.random.uniform(skynoise_min, skynoise_max, size=len(spectra)),\n",
    "             'zp': [28.]*len(spectra), \n",
    "             'zpsys':['ab']*len(spectra)})\n",
    "        #print(spectra_table)\n",
    "        #print(f'spectrum has {len(spectra)} elements')\n",
    "        \n",
    "        \n",
    "        obs_spec = sncosmo.realize_lcs(spectra_table, model, [params[-1]])\n",
    "        spec = lcdata.from_light_curves(obs_spec)\n",
    "        spectra_list.append(spec)\n",
    "    print(spec.light_curves)\n",
    "\n",
    "    #Get light curve data and convert to dataset\n",
    "    lcs = sncosmo.realize_lcs(obs, model, params)\n",
    "    dataset = lcdata.from_light_curves(lcs)\n",
    "    #Adding spectra into list of lists for each supernovae\n",
    "    spectra = spectra_list\n",
    "    return dataset, spectra\n",
    "light_curve, spectra = generate_lc()\n"
   ]
  },
  {
   "cell_type": "code",
   "execution_count": 7,
   "id": "7346a9f3",
   "metadata": {},
   "outputs": [],
   "source": [
    "for i in range(len(spectra)):\n",
    "    spectra[i].light_curves[0].meta = dict(spectra[i].light_curves[0].meta)\n",
    "    temp = light_curve.light_curves[i].meta \n",
    "    light_curve.light_curves[i].meta = dict(spectra[i].light_curves[0].meta)\n",
    "    light_curve.light_curves[i] = vstack([light_curve.light_curves[i], spectra[i].light_curves[0]])\n",
    "    light_curve.light_curves[i].meta = temp\n"
   ]
  },
  {
   "cell_type": "code",
   "execution_count": 13,
   "id": "873a2a52",
   "metadata": {},
   "outputs": [],
   "source": [
    "light_curve.write_hdf5('./stacked_data_2.h5', 'w')"
   ]
  }
 ],
 "metadata": {
  "kernelspec": {
   "display_name": "shakinaz",
   "language": "python",
   "name": "python3"
  },
  "language_info": {
   "codemirror_mode": {
    "name": "ipython",
    "version": 3
   },
   "file_extension": ".py",
   "mimetype": "text/x-python",
   "name": "python",
   "nbconvert_exporter": "python",
   "pygments_lexer": "ipython3",
   "version": "3.10.9"
  }
 },
 "nbformat": 4,
 "nbformat_minor": 5
}
